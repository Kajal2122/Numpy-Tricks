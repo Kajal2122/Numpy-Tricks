{
 "cells": [
  {
   "cell_type": "code",
   "execution_count": 1,
   "id": "b97e4c4d",
   "metadata": {},
   "outputs": [
    {
     "name": "stdout",
     "output_type": "stream",
     "text": [
      "Hello World\n"
     ]
    }
   ],
   "source": [
    "print (\"Hello World\")    # print is used to output variable"
   ]
  },
  {
   "cell_type": "code",
   "execution_count": 2,
   "id": "6048d240",
   "metadata": {},
   "outputs": [
    {
     "name": "stdout",
     "output_type": "stream",
     "text": [
      "this is data science with python class\n"
     ]
    }
   ],
   "source": [
    "print('this is data science with python class')"
   ]
  },
  {
   "cell_type": "code",
   "execution_count": 3,
   "id": "6342a6dc",
   "metadata": {},
   "outputs": [
    {
     "name": "stdout",
     "output_type": "stream",
     "text": [
      " jurney towards Data Science\n"
     ]
    }
   ],
   "source": [
    "print (\" jurney towards Data Science\")"
   ]
  },
  {
   "cell_type": "code",
   "execution_count": 4,
   "id": "c363ddb6",
   "metadata": {},
   "outputs": [
    {
     "name": "stdout",
     "output_type": "stream",
     "text": [
      "data science\n"
     ]
    }
   ],
   "source": [
    "# Comments\n",
    "\n",
    "#print(\"this is a comment\")\n",
    "print(\"data science\")"
   ]
  },
  {
   "cell_type": "code",
   "execution_count": null,
   "id": "99786ed7",
   "metadata": {},
   "outputs": [],
   "source": [
    "# python variables\n",
    "\n",
    "variables are containers for storing data values.\n",
    "\n",
    "for creating variables--\n",
    "python has no command for declearing a variable.\n",
    "A variable is created the moment u first assigh a value to it.\n",
    "\n",
    "variable names are case sensitive\n"
   ]
  },
  {
   "cell_type": "code",
   "execution_count": 5,
   "id": "bf15bdbb",
   "metadata": {},
   "outputs": [
    {
     "name": "stdout",
     "output_type": "stream",
     "text": [
      "10\n",
      "Name\n"
     ]
    }
   ],
   "source": [
    "a = 10\n",
    "b= \"Name\"\n",
    "print(a)\n",
    "print(b)"
   ]
  },
  {
   "cell_type": "code",
   "execution_count": 6,
   "id": "4ecc14a8",
   "metadata": {},
   "outputs": [
    {
     "name": "stdout",
     "output_type": "stream",
     "text": [
      "10\n",
      "Name\n",
      "22\n"
     ]
    }
   ],
   "source": [
    "a = 10 \n",
    "A = 22\n",
    "b = \"Name\"\n",
    "print(a)\n",
    "print(b)\n",
    "print(A)"
   ]
  },
  {
   "cell_type": "code",
   "execution_count": 7,
   "id": "e4c27568",
   "metadata": {},
   "outputs": [
    {
     "name": "stdout",
     "output_type": "stream",
     "text": [
      "5\n"
     ]
    }
   ],
   "source": [
    "# variables do not need too decleared with any particular, types.\n",
    "\n",
    "c = \"abc\"\n",
    "c = 5\n",
    "print(c)"
   ]
  },
  {
   "cell_type": "code",
   "execution_count": 8,
   "id": "eb3cb4a6",
   "metadata": {},
   "outputs": [
    {
     "name": "stdout",
     "output_type": "stream",
     "text": [
      "<class 'int'>\n",
      "<class 'str'>\n"
     ]
    }
   ],
   "source": [
    "# type() functions\n",
    "#to get the data types of a variable.\n",
    "\n",
    "a = 10\n",
    "b = \"Name\"\n",
    "print(type(a))\n",
    "print(type(b))"
   ]
  },
  {
   "cell_type": "code",
   "execution_count": 9,
   "id": "0f8ec6a6",
   "metadata": {},
   "outputs": [
    {
     "name": "stdout",
     "output_type": "stream",
     "text": [
      "<class 'int'>\n",
      "<class 'str'>\n",
      "<class 'float'>\n"
     ]
    }
   ],
   "source": [
    "a = 10\n",
    "b = \"Name\"\n",
    "c = 2.333\n",
    "print(type(a))\n",
    "print(type(b))\n",
    "print(type(c))"
   ]
  },
  {
   "cell_type": "code",
   "execution_count": 10,
   "id": "debe8bff",
   "metadata": {},
   "outputs": [
    {
     "name": "stdout",
     "output_type": "stream",
     "text": [
      "Learning\n",
      "python\n",
      "Basic\n"
     ]
    }
   ],
   "source": [
    "a1,b1,c1 = \"Learning\", \"python\", \"Basic\",    \n",
    "# python allows you to assign valies to multiple variables in one line\n",
    "\n",
    "print(a1)\n",
    "print(b1)\n",
    "print(c1)"
   ]
  },
  {
   "cell_type": "code",
   "execution_count": 11,
   "id": "0434682a",
   "metadata": {},
   "outputs": [
    {
     "name": "stdout",
     "output_type": "stream",
     "text": [
      "data\n",
      "data\n",
      "data\n"
     ]
    }
   ],
   "source": [
    "a = b = c = \"data\"\n",
    "\n",
    "print(a)\n",
    "print(b)\n",
    "print(c)"
   ]
  },
  {
   "cell_type": "code",
   "execution_count": null,
   "id": "6a9c3687",
   "metadata": {},
   "outputs": [],
   "source": [
    "# Data types in python \n",
    "\n",
    "# Built-in Data Types \n",
    "variables can hold values, n every value has a data-type.\n",
    "python is a dynamically typed language; hence we do not need to define the data type of the variable declaring variables.\n",
    "the interpreter implicity bind the value with its type."
   ]
  },
  {
   "cell_type": "code",
   "execution_count": null,
   "id": "723e19fa",
   "metadata": {},
   "outputs": [],
   "source": [
    "a2 = 10   # here the variable a2 hold integer value 10 n we didnot define its type: "
   ]
  },
  {
   "cell_type": "code",
   "execution_count": null,
   "id": "fb9fcb4d",
   "metadata": {},
   "outputs": [],
   "source": [
    "Text Type:-str\n",
    "    \n",
    "Numeric Types:-int, float, complex\n",
    "    \n",
    "Sequence Types:-list, tuple, range\n",
    "    \n",
    "Mapping Type:-dict\n",
    "    \n",
    "set Types:-set, frozenset\n",
    "    \n",
    "Boolean Type:-bool"
   ]
  },
  {
   "cell_type": "code",
   "execution_count": 12,
   "id": "753aca24",
   "metadata": {},
   "outputs": [
    {
     "name": "stdout",
     "output_type": "stream",
     "text": [
      "string using double quotes\n",
      "A multiline\n",
      "string\n"
     ]
    }
   ],
   "source": [
    "#   1. String \n",
    "\n",
    "s1 = 'string using double quotes'\n",
    "\n",
    "print(s1)\n",
    "\n",
    "s2 = '''A multiline\n",
    "string'''\n",
    "\n",
    "print(s2)"
   ]
  },
  {
   "cell_type": "code",
   "execution_count": 13,
   "id": "c9e30e16",
   "metadata": {},
   "outputs": [
    {
     "name": "stdout",
     "output_type": "stream",
     "text": [
      "The type of a <class 'int'>\n",
      "The type of b  <class 'float'>\n",
      "The type of c  <class 'complex'>\n"
     ]
    }
   ],
   "source": [
    "# 2. Numeric Type \n",
    "\n",
    "n1 = 5\n",
    "print(\"The type of a\" , type(n1))\n",
    "\n",
    "n2 = 40.5\n",
    "print(\"The type of b \" , type(n2))\n",
    "\n",
    "n3 = 1+3j\n",
    "print(\"The type of c \" , type(n3))"
   ]
  },
  {
   "cell_type": "code",
   "execution_count": null,
   "id": "aa2a6e28",
   "metadata": {},
   "outputs": [],
   "source": [
    "#### This is all about 28/june/2022.  #####"
   ]
  }
 ],
 "metadata": {
  "kernelspec": {
   "display_name": "Python 3 (ipykernel)",
   "language": "python",
   "name": "python3"
  },
  "language_info": {
   "codemirror_mode": {
    "name": "ipython",
    "version": 3
   },
   "file_extension": ".py",
   "mimetype": "text/x-python",
   "name": "python",
   "nbconvert_exporter": "python",
   "pygments_lexer": "ipython3",
   "version": "3.9.12"
  },
  "widgets": {
   "application/vnd.jupyter.widget-state+json": {
    "state": {},
    "version_major": 2,
    "version_minor": 0
   }
  }
 },
 "nbformat": 4,
 "nbformat_minor": 5
}
