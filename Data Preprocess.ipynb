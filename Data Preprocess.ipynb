{
 "cells": [
  {
   "cell_type": "code",
   "execution_count": null,
   "id": "d9d3a2a7",
   "metadata": {},
   "outputs": [],
   "source": [
    "# Data Preprocessing \n",
    "\n",
    "# importing the libraries "
   ]
  },
  {
   "cell_type": "code",
   "execution_count": null,
   "id": "53ede0e9",
   "metadata": {},
   "outputs": [],
   "source": [
    "import pandas as pd\n",
    "import numpy as np\n",
    "import matplotlib.pyplot as plt "
   ]
  },
  {
   "cell_type": "code",
   "execution_count": 3,
   "id": "31632245",
   "metadata": {},
   "outputs": [
    {
     "name": "stdout",
     "output_type": "stream",
     "text": [
      "   Country   Age   Salary Purchased\n",
      "0   France  44.0  72000.0        No\n",
      "1    Spain  27.0  48000.0       Yes\n",
      "2  Germany  30.0  54000.0        No\n",
      "3    Spain  38.0  61000.0        No\n",
      "4  Germany  40.0      NaN       Yes\n",
      "5   France  35.0  58000.0       Yes\n",
      "6    Spain   NaN  52000.0        No\n",
      "7   France  48.0  79000.0       Yes\n",
      "8  Germany  50.0  83000.0        No\n",
      "9   France  37.0  67000.0       Yes\n"
     ]
    }
   ],
   "source": [
    "# Importing the dataset :-\n",
    "\n",
    "import pandas as pd\n",
    "\n",
    "dataset = pd.read_csv('Data.csv')\n",
    "print(dataset)"
   ]
  },
  {
   "cell_type": "code",
   "execution_count": 8,
   "id": "5ded563d",
   "metadata": {},
   "outputs": [],
   "source": [
    "# Obtaining independent variable\n",
    "\n",
    "# Getting independent variable\n",
    "\n",
    "x = dataset.iloc[:, :-1],\"values\"\n",
    "\n",
    "# iloc =locate indexes, : =range in python here it is : without upper n lower bound means all rows.\n",
    "# -1 means last column ,le3ft side means start from 0 as index in py starts from 0,\n",
    "# in py includes lower bound n excludes upper bound."
   ]
  },
  {
   "cell_type": "code",
   "execution_count": 9,
   "id": "f17931df",
   "metadata": {},
   "outputs": [
    {
     "name": "stdout",
     "output_type": "stream",
     "text": [
      "(   Country   Age   Salary\n",
      "0   France  44.0  72000.0\n",
      "1    Spain  27.0  48000.0\n",
      "2  Germany  30.0  54000.0\n",
      "3    Spain  38.0  61000.0\n",
      "4  Germany  40.0      NaN\n",
      "5   France  35.0  58000.0\n",
      "6    Spain   NaN  52000.0\n",
      "7   France  48.0  79000.0\n",
      "8  Germany  50.0  83000.0\n",
      "9   France  37.0  67000.0, 'values')\n"
     ]
    }
   ],
   "source": [
    "print(x)"
   ]
  },
  {
   "cell_type": "code",
   "execution_count": 13,
   "id": "087d8f9c",
   "metadata": {},
   "outputs": [],
   "source": [
    "# Getting dependent variable\n",
    "\n",
    "y = dataset.iloc[:,-1],'values'"
   ]
  },
  {
   "cell_type": "code",
   "execution_count": 14,
   "id": "94c4b6c1",
   "metadata": {},
   "outputs": [
    {
     "name": "stdout",
     "output_type": "stream",
     "text": [
      "(0     No\n",
      "1    Yes\n",
      "2     No\n",
      "3     No\n",
      "4    Yes\n",
      "5    Yes\n",
      "6     No\n",
      "7    Yes\n",
      "8     No\n",
      "9    Yes\n",
      "Name: Purchased, dtype: object, 'values')\n"
     ]
    }
   ],
   "source": [
    "print(y)"
   ]
  },
  {
   "cell_type": "code",
   "execution_count": 15,
   "id": "eedf13d6",
   "metadata": {},
   "outputs": [
    {
     "name": "stdout",
     "output_type": "stream",
     "text": [
      "['No' 'Yes' 'No' 'No' 'Yes' 'Yes' 'No' 'Yes' 'No' 'Yes']\n"
     ]
    }
   ],
   "source": [
    "y = dataset.iloc[:,-1].values\n",
    "print(y)"
   ]
  },
  {
   "cell_type": "code",
   "execution_count": null,
   "id": "fcfa3aa1",
   "metadata": {},
   "outputs": [],
   "source": [
    "# 4.Handling of Missing Data :-\n",
    "\n",
    "\n",
    "                                 THEORY\n",
    "    \n",
    "    \n",
    "# imputation of missing values --here we impute the missing values, means decide them from data.\n",
    "# for this we use the simplelmpute class probides basic strategies for imputing missing values from data.\n",
    "# missing values can be impute with a provide constant value. or using the statistics  of each column in which the missing\n",
    "#values are loacted."
   ]
  },
  {
   "cell_type": "code",
   "execution_count": null,
   "id": "2f991103",
   "metadata": {},
   "outputs": [],
   "source": [
    "from sklearn.impute import SimpleImputer\n",
    "import numpy as np\n",
    "imputer = SimpleImputer(missing_values=np.nan,strategy='mean')\n",
    "imputer.fit[x(:, 1:3)]\n",
    "imputer.trans.transformed(x[:, 1:3])\n",
    "x[:, 1:3] = imputer,transform(x[:, 1:3])"
   ]
  },
  {
   "cell_type": "code",
   "execution_count": 37,
   "id": "d5582a27",
   "metadata": {},
   "outputs": [
    {
     "name": "stdout",
     "output_type": "stream",
     "text": [
      "(   Country   Age   Salary\n",
      "0   France  44.0  72000.0\n",
      "1    Spain  27.0  48000.0\n",
      "2  Germany  30.0  54000.0\n",
      "3    Spain  38.0  61000.0\n",
      "4  Germany  40.0      NaN\n",
      "5   France  35.0  58000.0\n",
      "6    Spain   NaN  52000.0\n",
      "7   France  48.0  79000.0\n",
      "8  Germany  50.0  83000.0\n",
      "9   France  37.0  67000.0, 'values')\n"
     ]
    }
   ],
   "source": [
    "print(x)"
   ]
  },
  {
   "cell_type": "code",
   "execution_count": null,
   "id": "be8e490c",
   "metadata": {},
   "outputs": [],
   "source": [
    "import pandas as pd\n",
    "import numpy as np\n",
    "import matplotlib.pyplot as plt "
   ]
  },
  {
   "cell_type": "code",
   "execution_count": 3,
   "id": "9e9c73c5",
   "metadata": {},
   "outputs": [
    {
     "ename": "AttributeError",
     "evalue": "'ColumnTransformer' object has no attribute 'fit_transformer'",
     "output_type": "error",
     "traceback": [
      "\u001b[1;31m---------------------------------------------------------------------------\u001b[0m",
      "\u001b[1;31mAttributeError\u001b[0m                            Traceback (most recent call last)",
      "Input \u001b[1;32mIn [3]\u001b[0m, in \u001b[0;36m<cell line: 10>\u001b[1;34m()\u001b[0m\n\u001b[0;32m      8\u001b[0m \u001b[38;5;28;01mfrom\u001b[39;00m \u001b[38;5;21;01msklearn\u001b[39;00m\u001b[38;5;21;01m.\u001b[39;00m\u001b[38;5;21;01mpreprocessing\u001b[39;00m \u001b[38;5;28;01mimport\u001b[39;00m OneHotEncoder\n\u001b[0;32m      9\u001b[0m ct \u001b[38;5;241m=\u001b[39m ColumnTransformer(transformers\u001b[38;5;241m=\u001b[39m[(\u001b[38;5;124m'\u001b[39m\u001b[38;5;124mencoder\u001b[39m\u001b[38;5;124m'\u001b[39m, OneHotEncoder(), [\u001b[38;5;241m0\u001b[39m])], remainder\u001b[38;5;241m=\u001b[39m\u001b[38;5;124m'\u001b[39m\u001b[38;5;124mpassthrough\u001b[39m\u001b[38;5;124m'\u001b[39m)\n\u001b[1;32m---> 10\u001b[0m x \u001b[38;5;241m=\u001b[39m np\u001b[38;5;241m.\u001b[39marray(\u001b[43mct\u001b[49m\u001b[38;5;241;43m.\u001b[39;49m\u001b[43mfit_transformer\u001b[49m(x))\n",
      "\u001b[1;31mAttributeError\u001b[0m: 'ColumnTransformer' object has no attribute 'fit_transformer'"
     ]
    }
   ],
   "source": [
    "#   Encoding categorical data.\n",
    "\n",
    " # encoding independent variable\n",
    "    \n",
    "import numpy as np\n",
    "    \n",
    "from sklearn.compose import ColumnTransformer\n",
    "from sklearn.preprocessing import OneHotEncoder\n",
    "ct = ColumnTransformer(transformers=[('encoder', OneHotEncoder(), [0])], remainder='passthrough')\n",
    "x = np.array(ct.fit_transformer(x))\n",
    " # x[:, 1:3] = imputer.transformer(x[:, 1:3])\n"
   ]
  },
  {
   "cell_type": "code",
   "execution_count": 35,
   "id": "10a18842",
   "metadata": {},
   "outputs": [
    {
     "ename": "NameError",
     "evalue": "name 'x' is not defined",
     "output_type": "error",
     "traceback": [
      "\u001b[1;31m---------------------------------------------------------------------------\u001b[0m",
      "\u001b[1;31mNameError\u001b[0m                                 Traceback (most recent call last)",
      "Input \u001b[1;32mIn [35]\u001b[0m, in \u001b[0;36m<cell line: 1>\u001b[1;34m()\u001b[0m\n\u001b[1;32m----> 1\u001b[0m \u001b[38;5;28mprint\u001b[39m(\u001b[43mx\u001b[49m)\n",
      "\u001b[1;31mNameError\u001b[0m: name 'x' is not defined"
     ]
    }
   ],
   "source": [
    "print(x)"
   ]
  },
  {
   "cell_type": "code",
   "execution_count": 4,
   "id": "d4be6688",
   "metadata": {},
   "outputs": [
    {
     "ename": "ModuleNotFoundError",
     "evalue": "No module named 'Sklearn'",
     "output_type": "error",
     "traceback": [
      "\u001b[1;31m---------------------------------------------------------------------------\u001b[0m",
      "\u001b[1;31mModuleNotFoundError\u001b[0m                       Traceback (most recent call last)",
      "Input \u001b[1;32mIn [4]\u001b[0m, in \u001b[0;36m<cell line: 5>\u001b[1;34m()\u001b[0m\n\u001b[0;32m      1\u001b[0m \u001b[38;5;66;03m# Encoding Dependent variable\u001b[39;00m\n\u001b[0;32m      2\u001b[0m \n\u001b[0;32m      3\u001b[0m \u001b[38;5;66;03m# This transformer should be used to encode targetvalues, i.e. y, & not the input X.\u001b[39;00m\n\u001b[1;32m----> 5\u001b[0m \u001b[38;5;28;01mfrom\u001b[39;00m \u001b[38;5;21;01mSklearn\u001b[39;00m\u001b[38;5;21;01m.\u001b[39;00m\u001b[38;5;21;01mpreprocessing\u001b[39;00m \u001b[38;5;28;01mimport\u001b[39;00m LabelEncoder\n\u001b[0;32m      6\u001b[0m le \u001b[38;5;241m=\u001b[39m LabelEncoder()\n\u001b[0;32m      7\u001b[0m y \u001b[38;5;241m=\u001b[39m le\u001b[38;5;241m.\u001b[39mfit_transform(y)\n",
      "\u001b[1;31mModuleNotFoundError\u001b[0m: No module named 'Sklearn'"
     ]
    }
   ],
   "source": [
    "# Encoding Dependent variable\n",
    "\n",
    "# This transformer should be used to encode targetvalues, i.e. y, & not the input X.\n",
    "\n",
    "from Sklearn.preprocessing import LabelEncoder\n",
    "le = LabelEncoder()\n",
    "y = le.fit_transform(y)"
   ]
  },
  {
   "cell_type": "code",
   "execution_count": 38,
   "id": "21a23365",
   "metadata": {},
   "outputs": [
    {
     "ename": "NameError",
     "evalue": "name 'y' is not defined",
     "output_type": "error",
     "traceback": [
      "\u001b[1;31m---------------------------------------------------------------------------\u001b[0m",
      "\u001b[1;31mNameError\u001b[0m                                 Traceback (most recent call last)",
      "Input \u001b[1;32mIn [38]\u001b[0m, in \u001b[0;36m<cell line: 1>\u001b[1;34m()\u001b[0m\n\u001b[1;32m----> 1\u001b[0m \u001b[38;5;28mprint\u001b[39m(\u001b[43my\u001b[49m)\n",
      "\u001b[1;31mNameError\u001b[0m: name 'y' is not defined"
     ]
    }
   ],
   "source": [
    "print(y)"
   ]
  },
  {
   "cell_type": "code",
   "execution_count": null,
   "id": "0f374ef4",
   "metadata": {},
   "outputs": [],
   "source": [
    "splitting the dataset into Traning set n Test set\n",
    "\n",
    "suppose , if we have given traning to our machine learning model\n",
    "by a dataset & we test it by a completely different dataset. Then, it will create difficulties\n",
    "for our model to understand the correlations b/w the  models.\n",
    "\n",
    "if we train our model very well & its training accuracy is also very high, but we provides a new\n",
    "dataset to it , then it  will decreases the preformance. so we always try to make a machine learning \n",
    "model which perform well with the training set & also with the test dataset.\n",
    "\n",
    "\n",
    "\n",
    "                          ##    DataSet \n",
    "    \n",
    "                            1) Training set\n",
    "        \n",
    "                            2) Test Set\n",
    "            \n",
    "            \n",
    "            ## Full Dataset\n",
    "            IT is are of two types \n",
    "            \n",
    "            * Training set             &        * Testing Set\n",
    "              !      !\n",
    " >> Traning set , >> Validation Set              >> Testing Set\n",
    "                \n",
    "                \n",
    "                \n",
    "                "
   ]
  }
 ],
 "metadata": {
  "kernelspec": {
   "display_name": "Python 3 (ipykernel)",
   "language": "python",
   "name": "python3"
  },
  "language_info": {
   "codemirror_mode": {
    "name": "ipython",
    "version": 3
   },
   "file_extension": ".py",
   "mimetype": "text/x-python",
   "name": "python",
   "nbconvert_exporter": "python",
   "pygments_lexer": "ipython3",
   "version": "3.9.12"
  },
  "widgets": {
   "application/vnd.jupyter.widget-state+json": {
    "state": {},
    "version_major": 2,
    "version_minor": 0
   }
  }
 },
 "nbformat": 4,
 "nbformat_minor": 5
}
