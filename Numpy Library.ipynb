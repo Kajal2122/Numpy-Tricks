{
 "cells": [
  {
   "cell_type": "code",
   "execution_count": null,
   "id": "340bf18f",
   "metadata": {},
   "outputs": [],
   "source": [
    "             *******  NUMPY *******\n",
    "    \n",
    "    Numpy stands for Numerical python\n",
    "    \n",
    "    it us a python Library\n",
    "    \n",
    "    Numpy works with Array\n",
    "    \n",
    "    it wass developed in 2005 by Travis Oliphant."
   ]
  },
  {
   "cell_type": "code",
   "execution_count": null,
   "id": "90c0e425",
   "metadata": {},
   "outputs": [],
   "source": [
    "                   List in python \n",
    "         L = [20, 'jessa' , 35.75, [30,60,90]]\n",
    "               !     !       !         !\n",
    "        \n",
    "            L[0]    L[1]    L[2]     L[3]\n",
    "            \n",
    "            \n",
    "       * ordered: Maintain the order of data insertion.\n",
    "       * chareable:List is mutuable n we can modify items.\n",
    "       * Heterogeneous:List can contain data of different types.\n",
    "       * Contains dupliate:Allows duplicates data.\n",
    "        \n",
    "        \n",
    " in python we have list in place of array, but they are slow\n",
    "so, Numpy provides us an array object-----ndarray, which is 50x faster than list\n",
    "        "
   ]
  },
  {
   "cell_type": "code",
   "execution_count": null,
   "id": "f0b8cff0",
   "metadata": {},
   "outputs": [],
   "source": [
    "import numpy as np"
   ]
  },
  {
   "cell_type": "code",
   "execution_count": 3,
   "id": "2ad08d88",
   "metadata": {},
   "outputs": [
    {
     "name": "stdout",
     "output_type": "stream",
     "text": [
      "1.21.5\n"
     ]
    }
   ],
   "source": [
    "  # checking numpy version\n",
    "import numpy as np\n",
    "print(np.__version__)"
   ]
  },
  {
   "cell_type": "code",
   "execution_count": null,
   "id": "9aa70ba1",
   "metadata": {},
   "outputs": [],
   "source": [
    "   ndarray----N-dimensional array -----1-D array, 2-D array, 3-D array \n",
    "    \n",
    "    A vector is an array with a single column, while a matrix refers to an array with muliple column.\n",
    "    \n",
    "    * Methods to creat array \n",
    "    \n",
    "     np.array()\n",
    "        \n",
    "     np.zeros()\n",
    "    \n",
    "     np.ones()\n",
    "        \n",
    "     np.empty()\n",
    "    \n",
    "     np.arange()\n",
    "        \n",
    "     np.linspace()\n",
    "    \n",
    "     dtype\n",
    "        \n",
    "     np.array()"
   ]
  },
  {
   "cell_type": "code",
   "execution_count": null,
   "id": "a3b50cf4",
   "metadata": {},
   "outputs": [],
   "source": [
    "   # np.array()\n",
    "                                  # one dimensional\n",
    "list = [1,2,3,4,5]\n",
    "list1 = np.array(list)\n",
    "\n",
    "print(list1)"
   ]
  },
  {
   "cell_type": "code",
   "execution_count": null,
   "id": "be4a4402",
   "metadata": {},
   "outputs": [],
   "source": [
    "list3 = [[1,2],[3,4],[5,6]]\n",
    "list4 = np.array(list3)                    # two dimensional\n",
    "print(list4)"
   ]
  },
  {
   "cell_type": "code",
   "execution_count": null,
   "id": "aa1263fd",
   "metadata": {},
   "outputs": [],
   "source": [
    "# np.zeroes()\n",
    "\n",
    " # array filled with zeroes\n",
    "\n",
    "np.zeros(5)"
   ]
  },
  {
   "cell_type": "code",
   "execution_count": null,
   "id": "c728683e",
   "metadata": {},
   "outputs": [],
   "source": [
    "# array filled with 1\n",
    "\n",
    "np.ones(4)"
   ]
  },
  {
   "cell_type": "code",
   "execution_count": null,
   "id": "73794ca0",
   "metadata": {},
   "outputs": [],
   "source": [
    "# np.arrange()\n",
    "# np.arrange(4)\n",
    "\n",
    "list2 = np.arange(10)             # or (0,10)\n",
    "print(list2)"
   ]
  },
  {
   "cell_type": "code",
   "execution_count": null,
   "id": "c2ddd8e1",
   "metadata": {},
   "outputs": [],
   "source": [
    "#*** Numpy arange()function takes start,end of a range n the interval as arguments n returns a one\n",
    "## -dimensional array.  [start, start+interval,start+2*interval, ...]\n",
    "\n",
    "                                      \n",
    "list5 = np.arange(0,10,2)        # for even (0,10)\n",
    "print(list5)"
   ]
  },
  {
   "cell_type": "code",
   "execution_count": null,
   "id": "a5b919e7",
   "metadata": {},
   "outputs": [],
   "source": [
    "# np.linspace()\n",
    "\n",
    "np.linspace(0,10,4)"
   ]
  },
  {
   "cell_type": "code",
   "execution_count": null,
   "id": "0dc35c74",
   "metadata": {},
   "outputs": [],
   "source": [
    "# specifiying the datatype---dtype\n",
    "\n",
    "# np.ones(4, dtype-float)"
   ]
  },
  {
   "cell_type": "code",
   "execution_count": null,
   "id": "7c41dac4",
   "metadata": {},
   "outputs": [],
   "source": [
    "# NUMY Array indexing\n",
    "# Accessing Numpy Array\n",
    "# 1. Accessing 1-D Array\n",
    "\n",
    "\n",
    "ar1 = np.array([\"a\", \"b\", \"c\", \"d\", \"e\"])       #we can directly give elements within square brackets.\n",
    "\n",
    "print(ar1)"
   ]
  },
  {
   "cell_type": "code",
   "execution_count": null,
   "id": "946209c5",
   "metadata": {},
   "outputs": [],
   "source": [
    "print(ar1[-1])         # we can directly give elements witnin square brackets ."
   ]
  },
  {
   "cell_type": "code",
   "execution_count": null,
   "id": "c91857cf",
   "metadata": {},
   "outputs": [],
   "source": [
    "# we can get elements from array and add them\n",
    "\n",
    "ar1 = np.array([\"a\", \"b\", \"c\", \"d\", \"e\"])\n",
    "                \n",
    "print(ar1[0] + ar1[2])"
   ]
  },
  {
   "cell_type": "code",
   "execution_count": null,
   "id": "180376c8",
   "metadata": {},
   "outputs": [],
   "source": [
    "ar2 = np.array([1,2,3,4,5])\n",
    "                              # for array contaianing numbers we can add,sub,multiple,divide.\n",
    "print(ar2[0] + ar2[2])"
   ]
  },
  {
   "cell_type": "code",
   "execution_count": null,
   "id": "8e2fb296",
   "metadata": {},
   "outputs": [],
   "source": [
    "*******Accessing 2-D Array*******"
   ]
  },
  {
   "cell_type": "code",
   "execution_count": null,
   "id": "25dde46e",
   "metadata": {},
   "outputs": [],
   "source": [
    "ar5 = np.array([[1,2,3,4,5], [6,7,8,9,10]])\n",
    "print(ar5)\n",
    "\n",
    "print(ar5[0, 1:4])"
   ]
  },
  {
   "cell_type": "code",
   "execution_count": null,
   "id": "052eb76d",
   "metadata": {},
   "outputs": [],
   "source": [
    "\n",
    "arr = np.array([[1,2,3],[6,7,8]])\n",
    "\n",
    "print('2nd element on 1st row: ', arr[0,1])\n",
    "print('6, on 2nd row: ', arr[1,0])"
   ]
  },
  {
   "cell_type": "code",
   "execution_count": null,
   "id": "91a3fcbe",
   "metadata": {},
   "outputs": [],
   "source": [
    "# 3. Accessing 3-D Array\n",
    "\n",
    "ar2 = np.array([[[1, 2, 3], [4, 5, 6]], [[7, 8, 9], [10, 11, 12]]])\n",
    "\n",
    "print(ar2[0, 1, 1])"
   ]
  },
  {
   "cell_type": "code",
   "execution_count": null,
   "id": "981d9c87",
   "metadata": {},
   "outputs": [],
   "source": [
    "print(ar2[0, 1 , 1])\n",
    "\n",
    "print(ar2) "
   ]
  },
  {
   "cell_type": "code",
   "execution_count": null,
   "id": "0caabe90",
   "metadata": {},
   "outputs": [],
   "source": [
    " # Negative Indexing \n",
    "    \n",
    "arr = np.array([[1,2,3], [6,7,8]])\n",
    "    \n",
    "print(arr[0,-1])"
   ]
  },
  {
   "cell_type": "code",
   "execution_count": null,
   "id": "7df1dfc9",
   "metadata": {},
   "outputs": [],
   "source": [
    "# Slicing in Numpy Array \n",
    "\n",
    "slice index: [ start:end ].\n",
    "    \n",
    "    we can also define the step, like this:[start:end:step].\n",
    "        if we dont pass start it will consider as zero\n",
    "    if we dont pass end it will consider as length of our array \n",
    "\n",
    "By default step is 1"
   ]
  },
  {
   "cell_type": "code",
   "execution_count": null,
   "id": "7b53a1e1",
   "metadata": {},
   "outputs": [],
   "source": [
    "ar4 = np.array([1, 2, 3, 4, 5, 6, 7, 8, 9, 10])\n",
    "\n",
    "print(ar4[1:4])\n",
    "print(ar4[1:10:2])"
   ]
  },
  {
   "cell_type": "code",
   "execution_count": null,
   "id": "027b76b8",
   "metadata": {},
   "outputs": [],
   "source": [
    "ar5 = np.array([\"a\",\"b\",\"c\",\"d\",\"e\"])\n",
    "\n",
    "print(ar5[2:])\n",
    "\n",
    "print(ar5[:5])"
   ]
  },
  {
   "cell_type": "code",
   "execution_count": null,
   "id": "ec6fef0a",
   "metadata": {},
   "outputs": [],
   "source": [
    "# Slicing in 2-D array\n",
    "\n",
    "ar5 = np.array([[1, 2, 3, 4, 5], [6, 7, 8, 9, 10]])\n",
    "\n",
    "print(ar5[0, 1:4])\n",
    "print(arr[0:2, 2])               # to print element at index 2 from both elements."
   ]
  },
  {
   "cell_type": "code",
   "execution_count": null,
   "id": "c6afd50f",
   "metadata": {},
   "outputs": [],
   "source": [
    "# Adding elements.\n",
    "\n",
    "# np.append()\n",
    "\n",
    "ar6 = np.array([1, 2, 3, 4, 5, 6, 7, 8, 9, 10, 11, 12])\n",
    "\n",
    "np.append(ar6,[20,21])"
   ]
  },
  {
   "cell_type": "code",
   "execution_count": null,
   "id": "e7c0c9c6",
   "metadata": {},
   "outputs": [],
   "source": [
    " # np.delete()\n",
    "    \n",
    "np.delete(ar6, 8)"
   ]
  },
  {
   "cell_type": "code",
   "execution_count": null,
   "id": "7687f58e",
   "metadata": {},
   "outputs": [],
   "source": [
    "ar7 = np.array([2,50,96,100,10,6,5])\n",
    "\n",
    "np.sort(ar7)"
   ]
  },
  {
   "cell_type": "code",
   "execution_count": null,
   "id": "b0dd9ae3",
   "metadata": {},
   "outputs": [],
   "source": [
    "# To get size n dimensions of array\n",
    "\n",
    "# ndarray.ndim()\n",
    "    \n",
    "# ndarray is name of array\n",
    "\n",
    "ar7.ndim"
   ]
  },
  {
   "cell_type": "code",
   "execution_count": null,
   "id": "283e2044",
   "metadata": {},
   "outputs": [],
   "source": [
    "# ndarray.size()\n",
    "\n",
    "ar7.size                  # it gives total np. of elements in array"
   ]
  },
  {
   "cell_type": "code",
   "execution_count": null,
   "id": "f022d938",
   "metadata": {},
   "outputs": [],
   "source": [
    "ar5 = np.array([\"a\", \"b\", \"c\", \"d\", \"e\"])\n",
    "\n",
    "print(ar5.dtype)"
   ]
  }
 ],
 "metadata": {
  "kernelspec": {
   "display_name": "Python 3 (ipykernel)",
   "language": "python",
   "name": "python3"
  },
  "language_info": {
   "codemirror_mode": {
    "name": "ipython",
    "version": 3
   },
   "file_extension": ".py",
   "mimetype": "text/x-python",
   "name": "python",
   "nbconvert_exporter": "python",
   "pygments_lexer": "ipython3",
   "version": "3.9.12"
  },
  "widgets": {
   "application/vnd.jupyter.widget-state+json": {
    "state": {},
    "version_major": 2,
    "version_minor": 0
   }
  }
 },
 "nbformat": 4,
 "nbformat_minor": 5
}
