{
 "cells": [
  {
   "cell_type": "code",
   "execution_count": 1,
   "id": "61ba54ec",
   "metadata": {},
   "outputs": [
    {
     "name": "stdout",
     "output_type": "stream",
     "text": [
      "The type of a <class 'int'>\n",
      "The type of b <class 'float'>\n",
      "The type of c <class 'complex'>\n"
     ]
    }
   ],
   "source": [
    "# 2. Numberic  Type\n",
    "\n",
    "n1 = 5\n",
    "print(\"The type of a\" , type(n1))\n",
    "\n",
    "n2 = 40.5\n",
    "print(\"The type of b\" , type(n2))\n",
    "\n",
    "n3 = 1+3j\n",
    "print(\"The type of c\" , type(n3))\n",
    "\n"
   ]
  },
  {
   "cell_type": "code",
   "execution_count": 2,
   "id": "7725cd9d",
   "metadata": {},
   "outputs": [
    {
     "name": "stdout",
     "output_type": "stream",
     "text": [
      "<class 'int'>\n",
      "<class 'int'>\n",
      "<class 'int'>\n"
     ]
    }
   ],
   "source": [
    "### Excerise Try it\n",
    "\n",
    "t1 = 1\n",
    "t2 = 35656222554887711\n",
    "t3 = -325522\n",
    "\n",
    "print(type(t1))\n",
    "print(type(t2))\n",
    "print(type(t3))"
   ]
  },
  {
   "cell_type": "code",
   "execution_count": 3,
   "id": "536ecab1",
   "metadata": {},
   "outputs": [
    {
     "name": "stdout",
     "output_type": "stream",
     "text": [
      "<class 'float'>\n",
      "<class 'float'>\n",
      "<class 'float'>\n"
     ]
    }
   ],
   "source": [
    "### Exercise try it\n",
    "\n",
    "t1 = 2.20\n",
    "t2 = 5.1111\n",
    "t3 = -30.45890\n",
    "\n",
    "print(type(t1))\n",
    "print(type(t2))\n",
    "print(type(t3))\n",
    "\n"
   ]
  },
  {
   "cell_type": "code",
   "execution_count": 4,
   "id": "8e91661e",
   "metadata": {},
   "outputs": [
    {
     "name": "stdout",
     "output_type": "stream",
     "text": [
      " String using duble quotes \n",
      "A multiline string\n"
     ]
    }
   ],
   "source": [
    "# String \n",
    "s1 = \" String using duble quotes \"\n",
    "\n",
    "print(s1)\n",
    "\n",
    "s2 = '''A multiline string'''\n",
    "\n",
    "print(s2)"
   ]
  },
  {
   "cell_type": "code",
   "execution_count": 5,
   "id": "fee020f3",
   "metadata": {},
   "outputs": [
    {
     "name": "stdout",
     "output_type": "stream",
     "text": [
      "<class 'float'>\n",
      "<class 'float'>\n",
      "<class 'float'>\n"
     ]
    }
   ],
   "source": [
    "### exercise try it \n",
    "\n",
    "t1 = 42e44\n",
    "t2 = 10e300\n",
    "t3 = -30.2e99\n",
    "\n",
    "print(type(t1))\n",
    "print(type(t2))\n",
    "print(type(t3))\n"
   ]
  },
  {
   "cell_type": "code",
   "execution_count": null,
   "id": "ddd123f4",
   "metadata": {},
   "outputs": [],
   "source": [
    " # ** Types of conversion--convert from one type to another\n",
    "\n",
    "    x = 2   #int\n",
    "    y = 4.1  #float\n",
    "    z = 2j   # complex\n",
    "    \n",
    "    # convert from int o float:\n",
    "    a = float(x)\n",
    "    \n",
    "    # convert from float to int :\n",
    "    b = int(y)\n",
    "    \n",
    "    # convert from int to complex :\n",
    "    c = complex(x)\n",
    "    \n",
    "    print(a)\n",
    "    print(b)\n",
    "    print(c)\n",
    "    \n",
    "    print(type(a))\n",
    "    print(type(b))\n",
    "    print(type(c))\n"
   ]
  },
  {
   "cell_type": "code",
   "execution_count": 6,
   "id": "fb239b08",
   "metadata": {},
   "outputs": [
    {
     "name": "stdout",
     "output_type": "stream",
     "text": [
      "2.0\n",
      "4\n",
      "(2+0j)\n"
     ]
    }
   ],
   "source": [
    "x = 2 \n",
    "y = 4.1\n",
    "z = 2j\n",
    "\n",
    "\n",
    "a = float(x)\n",
    "\n",
    "b = int(y)\n",
    "\n",
    "c = complex(x)\n",
    "\n",
    "print(a)\n",
    "print(b)\n",
    "print(c)\n"
   ]
  },
  {
   "cell_type": "code",
   "execution_count": 7,
   "id": "76748308",
   "metadata": {},
   "outputs": [
    {
     "name": "stdout",
     "output_type": "stream",
     "text": [
      "2.0\n",
      "4\n",
      "(2+0j)\n",
      "<class 'float'>\n",
      "<class 'int'>\n",
      "<class 'complex'>\n"
     ]
    }
   ],
   "source": [
    "x = 2\n",
    "y = 4.1\n",
    "z = 2j\n",
    "\n",
    "a = float(x)\n",
    "\n",
    "b = int(y)\n",
    " \n",
    "c = complex(x)\n",
    "\n",
    "print(a)\n",
    "print(b)\n",
    "print(c)\n",
    "\n",
    "print(type(a))\n",
    "print(type(b))\n",
    "print(type(c))\n"
   ]
  },
  {
   "cell_type": "code",
   "execution_count": 8,
   "id": "8571e71b",
   "metadata": {},
   "outputs": [
    {
     "name": "stdout",
     "output_type": "stream",
     "text": [
      "['pen', 'book', 'paper', 'laptop']\n"
     ]
    }
   ],
   "source": [
    "# LIST \n",
    "\n",
    "# Lists are used to store multiple items in a singhle variables .\n",
    "# Lists are one of 4 built - in data types in python used to store collections of data,the other Dictionary, all with different qualities n usage.\n",
    "\n",
    "# Lists are created using square brackets.\n",
    "\n",
    "\n",
    "#create list \n",
    "\n",
    "mylist = [\"pen\",\"book\",\"paper\",\"laptop\"]\n",
    "\n",
    "print(mylist)\n"
   ]
  },
  {
   "cell_type": "code",
   "execution_count": 9,
   "id": "e88081ef",
   "metadata": {},
   "outputs": [
    {
     "name": "stdout",
     "output_type": "stream",
     "text": [
      "4\n"
     ]
    }
   ],
   "source": [
    "# a. List length\n",
    "\n",
    "print(len(mylist))"
   ]
  },
  {
   "cell_type": "code",
   "execution_count": 10,
   "id": "2997c179",
   "metadata": {},
   "outputs": [
    {
     "name": "stdout",
     "output_type": "stream",
     "text": [
      "['a', 'a', 1, True]\n"
     ]
    }
   ],
   "source": [
    "# b. list item are ordered , mutuable(chargeable),allows duplicate n heterogeneous\n",
    "#Example\n",
    "\n",
    "list = [\"a\", \"a\", 1, True]\n",
    "print(list)"
   ]
  },
  {
   "cell_type": "code",
   "execution_count": null,
   "id": "f1ba5820",
   "metadata": {},
   "outputs": [],
   "source": [
    "# c. list indexing are :- it is the 1st itm has index[0], the 2nd item has index[1] n so on\n",
    "-ve *** indexing means start from the end  -1 refers to the last item , -2 refers to the last\n",
    "second items n so on \n",
    "\n",
    "example \n",
    "list = [\"a\", \"a\", 1, True]\n",
    "in binary!    !   !    !\n",
    "         0    1   2   3\n",
    "     **but in list indexing \n",
    "        \n",
    "        list = [\"a\", \"a\", 1, True]\n",
    "                 !    !    !   !\n",
    "                -4    -3  -2   -1\n",
    "                \n",
    "\n"
   ]
  },
  {
   "cell_type": "code",
   "execution_count": 11,
   "id": "f246c93f",
   "metadata": {},
   "outputs": [
    {
     "name": "stdout",
     "output_type": "stream",
     "text": [
      "laptop\n",
      "6\n"
     ]
    }
   ],
   "source": [
    "# d. Access list items \n",
    "\n",
    "list = [\"pen\", \"laptop\", 6, 2, \"book\"]\n",
    "\n",
    "print (list[1])\n",
    "print(list[-3])"
   ]
  },
  {
   "cell_type": "code",
   "execution_count": 12,
   "id": "52a5411e",
   "metadata": {},
   "outputs": [
    {
     "name": "stdout",
     "output_type": "stream",
     "text": [
      "['laptop', 6]\n",
      "['pen', 'laptop', 6]\n",
      "['laptop', 6, 2, 'book']\n"
     ]
    }
   ],
   "source": [
    "# range of indexes--- we can specificy a range of indexing by specificing where to end the range.\n",
    "\n",
    "print(list[1:3])\n",
    "\n",
    "print(list[:3])\n",
    "\n",
    "print(list[1:])"
   ]
  },
  {
   "cell_type": "code",
   "execution_count": 13,
   "id": "1d6d6964",
   "metadata": {},
   "outputs": [
    {
     "name": "stdout",
     "output_type": "stream",
     "text": [
      "['orange', 'grapes', 'watermelon', 10, 9]\n"
     ]
    }
   ],
   "source": [
    "# e. Change list items \n",
    "\n",
    "list = [\"orange\" , \"apple\" , \"kiwi\", 7 , 9]\n",
    " \n",
    "list[3] = 10\n",
    "\n",
    "#print(list)\n",
    "\n",
    "list[1:3] = [\"grapes\", \"watermelon\"]\n",
    "\n",
    "print(list)"
   ]
  },
  {
   "cell_type": "code",
   "execution_count": 14,
   "id": "0a10cdda",
   "metadata": {},
   "outputs": [
    {
     "name": "stdout",
     "output_type": "stream",
     "text": [
      "['orange', 'grapes', 'watermelon', 10, 9, 'kiwi']\n"
     ]
    }
   ],
   "source": [
    "# f. Add items list\n",
    "# append()--To add an item o the end of the list \n",
    "\n",
    "list.append(\"kiwi\")\n",
    "print(list)\n",
    "\n"
   ]
  },
  {
   "cell_type": "code",
   "execution_count": 15,
   "id": "0c7698d4",
   "metadata": {},
   "outputs": [
    {
     "name": "stdout",
     "output_type": "stream",
     "text": [
      "['orange', 'grapes', 'muskmelon', 'watermelon', 10, 9, 'kiwi']\n"
     ]
    }
   ],
   "source": [
    "# insert()-- To insert a list at a specificed index\n",
    "\n",
    "list.insert(2, \"muskmelon\")\n",
    "print(list)"
   ]
  },
  {
   "cell_type": "code",
   "execution_count": 16,
   "id": "d13f466b",
   "metadata": {},
   "outputs": [
    {
     "name": "stdout",
     "output_type": "stream",
     "text": [
      "['orange', 'grapes', 'muskmelon', 'watermelon', 10, 9]\n"
     ]
    }
   ],
   "source": [
    "# g- Remove list items \n",
    "# removed() --removes the specified item.\n",
    "\n",
    "list.remove(\"kiwi\")\n",
    "\n",
    "print(list)"
   ]
  },
  {
   "cell_type": "code",
   "execution_count": 17,
   "id": "ecb09afa",
   "metadata": {},
   "outputs": [
    {
     "name": "stdout",
     "output_type": "stream",
     "text": [
      "['orange', 'grapes', 'muskmelon', 'watermelon', 9]\n"
     ]
    }
   ],
   "source": [
    "# **pop()-- Removes the specified index\n",
    "\n",
    "list.pop(4)\n",
    "\n",
    "print(list)"
   ]
  },
  {
   "cell_type": "code",
   "execution_count": null,
   "id": "cb2b810e",
   "metadata": {},
   "outputs": [],
   "source": [
    "# ** TUPLE \n",
    "it is are usede to store multiple items in a single variables.\n",
    "a tuple is a collection which is obtained n unchangeble.\n",
    "tubles are written with round brackts.\n",
    "tuple items are odered, unchangable,n allow duplicate values.\n",
    "Tuple items are indexed , the first items has index[0], the second items has is called a tuple. \n",
    "\n"
   ]
  },
  {
   "cell_type": "code",
   "execution_count": 18,
   "id": "c2741005",
   "metadata": {},
   "outputs": [
    {
     "name": "stdout",
     "output_type": "stream",
     "text": [
      "('name', 'age', 2, 3)\n"
     ]
    }
   ],
   "source": [
    "tuple1 = (\"name\" , \"age\", 2, 3)\n",
    "print(tuple1)"
   ]
  },
  {
   "cell_type": "code",
   "execution_count": 19,
   "id": "f9736ef5",
   "metadata": {},
   "outputs": [
    {
     "name": "stdout",
     "output_type": "stream",
     "text": [
      "age\n",
      "('age', 2, 3)\n"
     ]
    }
   ],
   "source": [
    "# a. Access tuples\n",
    "\n",
    "\n",
    "print(tuple1[1])\n",
    "print(tuple1[1:5])"
   ]
  },
  {
   "cell_type": "code",
   "execution_count": 20,
   "id": "702b8d84",
   "metadata": {},
   "outputs": [
    {
     "name": "stdout",
     "output_type": "stream",
     "text": [
      "(1, 'kiwi', 'cherry', 'apple', 1)\n"
     ]
    }
   ],
   "source": [
    "# b. Add items since tuple are immutable ,they do not have a build-in append()\n",
    "\n",
    "mytuple = (1, \"kiwi\" , \"cherry\")\n",
    "\n",
    "t = (\"apple\" , 1)\n",
    "\n",
    "mytuple += t\n",
    "\n",
    "print(mytuple)"
   ]
  },
  {
   "cell_type": "code",
   "execution_count": 21,
   "id": "d65443ff",
   "metadata": {},
   "outputs": [
    {
     "name": "stdout",
     "output_type": "stream",
     "text": [
      "('a', 'b', 'c', 1, 2, 3)\n"
     ]
    }
   ],
   "source": [
    "# c Join **2  tuple \n",
    "\n",
    "t1 = (\"a\", \"b\", \"c\")\n",
    "t2 = (1,2,3)\n",
    "t3 = t1 + t2\n",
    "\n",
    "print(t3)"
   ]
  },
  {
   "cell_type": "code",
   "execution_count": 22,
   "id": "fad07daf",
   "metadata": {},
   "outputs": [
    {
     "name": "stdout",
     "output_type": "stream",
     "text": [
      "<class 'tuple'>\n"
     ]
    }
   ],
   "source": [
    "print(type(t1))"
   ]
  },
  {
   "cell_type": "code",
   "execution_count": null,
   "id": "99b6e800",
   "metadata": {},
   "outputs": [],
   "source": [
    "THEORY **###Exercise try it--\n",
    "\n",
    "INT- integer value of numerical can be any lemgth such as integer 10,2,29,-20,-150 etc.\n",
    "\n",
    "python has no restriction on the length of an integer. its value belongs to int.\n",
    "\n",
    "float-float is used to store floating-point numbers like 1.9 , 9.902, 15.2, etc it is accurate upto 15.\n",
    "\n",
    "complex - A complex number contains an ordered pair, i.e., x + iy wherw x n y fenote the real \n",
    "accurate pair .\n",
    "\n",
    "The complex numbers like 2.14j , 2.0 + 2.3j, etc ."
   ]
  },
  {
   "cell_type": "code",
   "execution_count": null,
   "id": "617ad98b",
   "metadata": {},
   "outputs": [],
   "source": [
    "     ******* THIS IS THE 3RD Days of data science with python classes {2,days of programs} \n",
    "        29 june 2021 *********"
   ]
  }
 ],
 "metadata": {
  "kernelspec": {
   "display_name": "Python 3 (ipykernel)",
   "language": "python",
   "name": "python3"
  },
  "language_info": {
   "codemirror_mode": {
    "name": "ipython",
    "version": 3
   },
   "file_extension": ".py",
   "mimetype": "text/x-python",
   "name": "python",
   "nbconvert_exporter": "python",
   "pygments_lexer": "ipython3",
   "version": "3.9.12"
  },
  "widgets": {
   "application/vnd.jupyter.widget-state+json": {
    "state": {},
    "version_major": 2,
    "version_minor": 0
   }
  }
 },
 "nbformat": 4,
 "nbformat_minor": 5
}
