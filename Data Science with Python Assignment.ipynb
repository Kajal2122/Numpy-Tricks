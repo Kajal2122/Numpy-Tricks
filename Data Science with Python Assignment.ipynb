{
 "cells": [
  {
   "cell_type": "code",
   "execution_count": 10,
   "id": "0f56384b",
   "metadata": {},
   "outputs": [
    {
     "name": "stdout",
     "output_type": "stream",
     "text": [
      "One dimensional array:\n",
      "[0 1 2 3 4 5 6]\n",
      "\n",
      "Two dimensional array:\n",
      "[[ 0  1  2  3  4  5  6]\n",
      " [ 7  8  9 10 11 12 13]\n",
      " [14 15 16 17 18 19 20]]\n",
      "0:0\n",
      "1:1\n",
      "2:2\n",
      "3:3\n",
      "4:4\n",
      "5:5\n",
      "6:6\n",
      "0:7\n",
      "1:8\n",
      "2:9\n",
      "3:10\n",
      "4:11\n",
      "5:12\n",
      "6:13\n",
      "0:14\n",
      "1:15\n",
      "2:16\n",
      "3:17\n",
      "4:18\n",
      "5:19\n",
      "6:20\n"
     ]
    }
   ],
   "source": [
    "      \n",
    "               # ** Assignment questions :-\n",
    "    \n",
    "    \n",
    "    \n",
    "   #   1) Write a programe to combine a one & a 2-Dimensional Numpy Array.\n",
    "    \n",
    "    # programs:- \n",
    "    \n",
    "    # importing Numpy package\n",
    "import numpy as np\n",
    "\n",
    "num_1d = np.arange(7)\n",
    "print(\"One dimensional array:\")\n",
    "print(num_1d)\n",
    "\n",
    "num_2d = np.arange(21).reshape(3,7)\n",
    "print(\"\\nTwo dimensional array:\")\n",
    "print(num_2d)\n",
    "\n",
    "# Combine 1-D and 2-D arrays and display\n",
    "# their elements using numpy.nditer()\n",
    "for a, b in np.nditer([num_1d, num_2d]):\n",
    "\tprint(\"%d:%d\" % (a, b),)\n",
    "\n",
    "    \n",
    "    \n",
    "    \n",
    "    "
   ]
  },
  {
   "cell_type": "code",
   "execution_count": 9,
   "id": "c82ea3ff",
   "metadata": {},
   "outputs": [
    {
     "name": "stdout",
     "output_type": "stream",
     "text": [
      "Original array:\n",
      "[[ 0  1  2  3  4]\n",
      " [ 5  6  7  8  9]\n",
      " [10 11 12 13 14]\n",
      " [15 16 17 18 19]]\n",
      "True\n",
      "False\n",
      "True\n"
     ]
    }
   ],
   "source": [
    "   #   2) write a code  to check wheather a Numpy Array contains a specificed rows.\n",
    "\n",
    "   \n",
    "     # programs:-\n",
    "    \n",
    "    \n",
    "\n",
    "        \n",
    "num = np.arange(20)\n",
    "arr1 = np.reshape(num, [4, 5])\n",
    "print(\"Original array:\")\n",
    "print(arr1)\n",
    "print([0, 1, 2, 3, 4] in arr1.tolist())\n",
    "print([0, 1, 2, 3, 5] in arr1.tolist())\n",
    "print([15, 16, 17, 18, 19] in arr1.tolist())\n",
    "\n",
    "\n"
   ]
  },
  {
   "cell_type": "code",
   "execution_count": 4,
   "id": "f1ab512d",
   "metadata": {},
   "outputs": [
    {
     "name": "stdout",
     "output_type": "stream",
     "text": [
      "        name  score  attempts qualify\n",
      "a  Anastasia   12.5         1     yes\n",
      "b       Dima    9.0         3      no\n",
      "c  Katherine   16.5         2     yes\n",
      "d      James    NaN         3      no\n",
      "e      Emily    9.0         2      no\n",
      "f    Michael   20.0         3     yes\n",
      "g    Matthew   14.5         1     yes\n",
      "h      Laura    NaN         1      no\n",
      "i      Kevin    8.0         2      no\n",
      "j      Jonas   19.0         1     yes\n"
     ]
    }
   ],
   "source": [
    "    # 3) write a code to pandas code to create & display a dataframe from a specificed dictionary data which \n",
    "     # has index labels.\n",
    "        \n",
    "        # program :-\n",
    " \n",
    "     \n",
    "import pandas as pd\n",
    "import numpy as np\n",
    "\n",
    "exam_data  = {'name': ['Anastasia', 'Dima', 'Katherine', 'James', 'Emily', 'Michael', 'Matthew', 'Laura', 'Kevin', 'Jonas'],\n",
    "        'score': [12.5, 9, 16.5, np.nan, 9, 20, 14.5, np.nan, 8, 19],\n",
    "        'attempts': [1, 3, 2, 3, 2, 3, 1, 1, 2, 1],\n",
    "        'qualify': ['yes', 'no', 'yes', 'no', 'no', 'yes', 'yes', 'no', 'no', 'yes']}\n",
    "labels = ['a', 'b', 'c', 'd', 'e', 'f', 'g', 'h', 'i', 'j']\n",
    "\n",
    "df = pd.DataFrame(exam_data , index=labels)\n",
    "print(df)\n",
    " \n",
    " \n",
    " "
   ]
  },
  {
   "cell_type": "code",
   "execution_count": 2,
   "id": "8094dc3f",
   "metadata": {},
   "outputs": [
    {
     "name": "stdout",
     "output_type": "stream",
     "text": [
      "  Category  Marks\n",
      "0    Array     20\n",
      "1    Stack     21\n",
      "2    Queue     19\n"
     ]
    }
   ],
   "source": [
    "# 4) write a code pasands code to create dataframe dict of narray/Lists.\n",
    "\n",
    "\n",
    "# programe :-\n",
    "\n",
    "# Python code demonstrate creating\n",
    "# DataFrame from dict narray / lists\n",
    "# By default addresses.\n",
    "\n",
    "import pandas as pd\n",
    "\n",
    "# initialise data of lists.\n",
    "data = {'Category':['Array', 'Stack', 'Queue'],\n",
    "\t\t'Marks':[20, 21, 19]}\n",
    "\n",
    "# Create DataFrame\n",
    "df = pd.DataFrame(data)\n",
    "\n",
    "# Print the output.\n",
    "print(df )\n",
    "\n",
    "\n"
   ]
  },
  {
   "cell_type": "code",
   "execution_count": 1,
   "id": "65c0c8b1",
   "metadata": {},
   "outputs": [
    {
     "name": "stdout",
     "output_type": "stream",
     "text": [
      "  Category         Name  Marks\n",
      "0       DS  Linked_list     10\n",
      "1       DS        Stack      9\n",
      "2       DS        Queue      7\n",
      "3     Algo       Greedy      8\n",
      "4     Algo           DP      6\n",
      "5     Algo    BackTrack      5\n"
     ]
    }
   ],
   "source": [
    "    # 5)  write a code to create pandas Dataframe using List of lists .\n",
    "    \n",
    "    # program :-\n",
    "    \n",
    "    # Import pandas library\n",
    "import pandas as pd\n",
    "\n",
    "# initialize list of lists\n",
    "data = [['DS', 'Linked_list', 10], ['DS', 'Stack', 9], ['DS', 'Queue', 7],\n",
    "\t\t['Algo', 'Greedy', 8], ['Algo', 'DP', 6], ['Algo', 'BackTrack', 5], ]\n",
    "\n",
    "# Create the pandas DataFrame\n",
    "df = pd.DataFrame(data, columns = ['Category', 'Name', 'Marks'])\n",
    "\n",
    "# print dataframe.\n",
    "print(df )\n",
    "\n",
    "    "
   ]
  },
  {
   "cell_type": "code",
   "execution_count": null,
   "id": "953d4ddd",
   "metadata": {},
   "outputs": [],
   "source": [
    "   #    ****THANK YOU****"
   ]
  }
 ],
 "metadata": {
  "kernelspec": {
   "display_name": "Python 3 (ipykernel)",
   "language": "python",
   "name": "python3"
  },
  "language_info": {
   "codemirror_mode": {
    "name": "ipython",
    "version": 3
   },
   "file_extension": ".py",
   "mimetype": "text/x-python",
   "name": "python",
   "nbconvert_exporter": "python",
   "pygments_lexer": "ipython3",
   "version": "3.9.12"
  },
  "widgets": {
   "application/vnd.jupyter.widget-state+json": {
    "state": {},
    "version_major": 2,
    "version_minor": 0
   }
  }
 },
 "nbformat": 4,
 "nbformat_minor": 5
}
