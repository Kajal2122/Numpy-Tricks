{
 "cells": [
  {
   "cell_type": "code",
   "execution_count": null,
   "id": "cbf3a014",
   "metadata": {},
   "outputs": [],
   "source": [
    "                #   [P A N D A S]  LIBARARY IN PYTHON \n",
    "    \n",
    "    THEORY ---\n",
    "    \n",
    "   # pandas is an open sourse python libarary for working with data sets it os used for analysis ,\n",
    "   # cleaning , exploring, n manipulating data . The name  \"pandas\" referred to both \"panel Data\"\n",
    "   # , and \"python Data Analysis\" pandas created by *Wes McKinney in 2008*.\n",
    "    \n",
    "    > pandas can find-----\n",
    "    --is there a correlation b/w two or more columns ? \n",
    "    --what is average value ?\n",
    "    --what is the Max value ?\n",
    "    --what is the Min value ?\n",
    "    \n",
    "    import pandas ."
   ]
  },
  {
   "cell_type": "code",
   "execution_count": 1,
   "id": "24f31ece",
   "metadata": {},
   "outputs": [],
   "source": [
    "import pandas as pd"
   ]
  },
  {
   "cell_type": "code",
   "execution_count": 2,
   "id": "64a354c8",
   "metadata": {},
   "outputs": [
    {
     "name": "stdout",
     "output_type": "stream",
     "text": [
      "1.4.2\n"
     ]
    }
   ],
   "source": [
    "# checking version\n",
    "\n",
    "print(pd.__version__)"
   ]
  },
  {
   "cell_type": "code",
   "execution_count": null,
   "id": "573f0984",
   "metadata": {},
   "outputs": [],
   "source": [
    " *** Data Structure in Pandas-\n",
    "    1> Series -- 1 dimensional labelled n homogenious data like a column in a table.\n",
    "    \n",
    "    2> DataFrame -- 2 dimensional labelled n hetrogenous data in tabular form.\n",
    "    \n",
    "    3> Panel -- 3 dimensional labelled array.\n",
    "    \n",
    "     *****SERIES*****\n",
    "          \n",
    "            First\n",
    "        ____Name_____\n",
    "            0 Lois\n",
    "            1 Brenda\n",
    "            2 joe                                           @ \"important\"//\n",
    "            3 Diane\n",
    "Index =>    4 Benjamin     <= Data                   ******[ALL ARE THE PANDAS SERIES]********\n",
    "            5 Patrick\n",
    "            6 Nancy\n",
    "            7 Carol\n",
    "            8 Frances\n",
    "            9 Diana\n",
    "         _______________\n",
    "        \n",
    "    \n"
   ]
  },
  {
   "cell_type": "code",
   "execution_count": 3,
   "id": "e8362114",
   "metadata": {},
   "outputs": [
    {
     "name": "stdout",
     "output_type": "stream",
     "text": [
      "0    1\n",
      "1    7\n",
      "2    2\n",
      "dtype: int64\n"
     ]
    }
   ],
   "source": [
    "# create series\n",
    "\n",
    "l1 = [1, 7, 2]\n",
    "\n",
    "sr1 = pd.Series(l1)\n",
    "\n",
    "print(sr1)"
   ]
  },
  {
   "cell_type": "code",
   "execution_count": null,
   "id": "3a5d45a9",
   "metadata": {},
   "outputs": [],
   "source": [
    " *** Lables\n",
    "    >> Lables --if not specified then labelled with their index no. like 0,1,2,3.......\n",
    "    >> Lables are used to access a specific value.\n",
    "    "
   ]
  },
  {
   "cell_type": "code",
   "execution_count": 4,
   "id": "7c62e0f0",
   "metadata": {},
   "outputs": [
    {
     "name": "stdout",
     "output_type": "stream",
     "text": [
      "2\n"
     ]
    }
   ],
   "source": [
    "print(sr1[2])"
   ]
  },
  {
   "cell_type": "code",
   "execution_count": 5,
   "id": "61f2def3",
   "metadata": {},
   "outputs": [
    {
     "name": "stdout",
     "output_type": "stream",
     "text": [
      "a    1\n",
      "b    5\n",
      "c    7\n",
      "d    9\n",
      "dtype: int64\n",
      "5\n"
     ]
    }
   ],
   "source": [
    "# create your own label by giving index arguments\n",
    "\n",
    "l2 = [1, 5, 7, 9]\n",
    "\n",
    "sr2 = pd.Series(l2, index = ['a' ,'b', 'c', 'd'])\n",
    "\n",
    "print(sr2)\n",
    "print(sr2[\"b\"])                       \n",
    "                      # accessing with their index lables.\n"
   ]
  },
  {
   "cell_type": "code",
   "execution_count": null,
   "id": "71136dec",
   "metadata": {},
   "outputs": [],
   "source": [
    " ## we can also create a series using a key/value objects, like a dictionary.\n",
    "\n",
    " ## Here key becomes the lables."
   ]
  },
  {
   "cell_type": "code",
   "execution_count": 6,
   "id": "e664e76a",
   "metadata": {},
   "outputs": [
    {
     "name": "stdout",
     "output_type": "stream",
     "text": [
      "car1      Audi\n",
      "car2    Murati\n",
      "car3       i20\n",
      "car4     creta\n",
      "dtype: object\n"
     ]
    }
   ],
   "source": [
    "cars = {\"car1\": \"Audi\", \"car2\": \"Murati\", \"car3\": \"i20\", \"car4\": \"creta\"}\n",
    "\n",
    "sr3 = pd.Series(cars)\n",
    "\n",
    "print(sr3)"
   ]
  },
  {
   "cell_type": "code",
   "execution_count": 7,
   "id": "acbe4906",
   "metadata": {},
   "outputs": [
    {
     "name": "stdout",
     "output_type": "stream",
     "text": [
      "car1     Audi\n",
      "car4    creta\n",
      "dtype: object\n"
     ]
    }
   ],
   "source": [
    "cars = {\"car1\": \"Audi\", \"car2\": \"Murati\", \"car3\": \"i20\", \"car4\": \"creta\"}\n",
    "\n",
    "sr3 = pd.Series(cars, index= [\"car1\" , \"car4\"])\n",
    "\n",
    "print(sr3)"
   ]
  },
  {
   "cell_type": "code",
   "execution_count": null,
   "id": "d12a2628",
   "metadata": {},
   "outputs": [],
   "source": [
    "#   Theory\n",
    "DataFrame \n",
    "  << A DataFrame is like a 2 dimensionals array, or a table with rows n columns. >>\n",
    "    \n",
    "    FOR EXAMPLE :- \n",
    "        SERIES            SERIES            DATAFRAME\n",
    "        > apples           > oranges        > apples  oranges\n",
    "         0  3               0     0         0    3      0\n",
    "         1  2      +        1     3    =    1    2      3\n",
    "         2  0               2     7         2    0      7\n",
    "         3  1               3     2         3    1      2\n",
    "        \n",
    "        \n",
    "        Make A Table of this fruits**.\n",
    "        "
   ]
  },
  {
   "cell_type": "code",
   "execution_count": 8,
   "id": "072e1576",
   "metadata": {},
   "outputs": [
    {
     "name": "stdout",
     "output_type": "stream",
     "text": [
      "   distance  speed\n",
      "0       500     60\n",
      "1       450     40\n",
      "2       350     55\n"
     ]
    }
   ],
   "source": [
    "  # Create dataframe\n",
    "    \n",
    "data1 = {\n",
    "         \"distance\": [500, 450, 350],\n",
    "        \"speed\": [60, 40, 55]\n",
    "}\n",
    "    \n",
    "    #   Load data into a dataframe object :\n",
    "    \n",
    "df = pd.DataFrame(data1)\n",
    "    \n",
    "print(df)"
   ]
  },
  {
   "cell_type": "code",
   "execution_count": null,
   "id": "12c947ec",
   "metadata": {},
   "outputs": [],
   "source": [
    "  << loc--to locate row, this attribute returns one or more specific row. >>"
   ]
  },
  {
   "cell_type": "code",
   "execution_count": 9,
   "id": "d2d54432",
   "metadata": {},
   "outputs": [
    {
     "name": "stdout",
     "output_type": "stream",
     "text": [
      "distance    450\n",
      "speed        40\n",
      "Name: 1, dtype: int64\n",
      "distance    500\n",
      "speed        60\n",
      "Name: 0, dtype: int64\n"
     ]
    }
   ],
   "source": [
    "print(df.loc[1])\n",
    "print(df.loc[0])"
   ]
  },
  {
   "cell_type": "code",
   "execution_count": 10,
   "id": "f88cbd7c",
   "metadata": {},
   "outputs": [
    {
     "name": "stdout",
     "output_type": "stream",
     "text": [
      "   distance  speed\n",
      "0       500     60\n",
      "2       350     55\n"
     ]
    }
   ],
   "source": [
    "# to return 2 or more rows\n",
    "\n",
    "print(df.loc[[0, 2]])"
   ]
  },
  {
   "cell_type": "code",
   "execution_count": 11,
   "id": "bbcaefc5",
   "metadata": {},
   "outputs": [
    {
     "name": "stdout",
     "output_type": "stream",
     "text": [
      "      distance  speed\n",
      "car1       500     60\n",
      "car2       450     40\n",
      "car3       350     55\n"
     ]
    }
   ],
   "source": [
    "### Naming indexes using index argument.\n",
    "\n",
    "data1 = {\n",
    "    \"distance\": [500, 450, 350],\n",
    "    \"speed\": [60, 40, 55]\n",
    "}\n",
    "\n",
    "#load data into a dataframe object:\n",
    "\n",
    "df = pd.DataFrame(data1, index = [\"car1\", \"car2\", \"car3\"])\n",
    "print(df)"
   ]
  },
  {
   "cell_type": "code",
   "execution_count": null,
   "id": "a31a7429",
   "metadata": {},
   "outputs": [],
   "source": [
    " >> using named indexes in loc attribute to return specific rows. <<"
   ]
  },
  {
   "cell_type": "code",
   "execution_count": 12,
   "id": "1f692dc3",
   "metadata": {},
   "outputs": [
    {
     "name": "stdout",
     "output_type": "stream",
     "text": [
      "distance    500\n",
      "speed        60\n",
      "Name: car1, dtype: int64\n"
     ]
    }
   ],
   "source": [
    "print(df.loc[\"car1\"])"
   ]
  },
  {
   "cell_type": "code",
   "execution_count": null,
   "id": "c2debc23",
   "metadata": {},
   "outputs": [],
   "source": [
    "  >> Create A DataFrame from Dict of ndarray/Lists.  <<"
   ]
  },
  {
   "cell_type": "code",
   "execution_count": 13,
   "id": "f2fc4502",
   "metadata": {},
   "outputs": [
    {
     "name": "stdout",
     "output_type": "stream",
     "text": [
      "    Name  Age\n",
      "0  Harry   44\n",
      "1   jack   39\n",
      "2   Mark   40\n"
     ]
    }
   ],
   "source": [
    "data = {'Name' :['Harry', 'jack', 'Mark'], 'Age' :[44,39,40]}\n",
    "\n",
    "df = pd.DataFrame(data)\n",
    "\n",
    "print(df)"
   ]
  },
  {
   "cell_type": "code",
   "execution_count": null,
   "id": "1d50316a",
   "metadata": {},
   "outputs": [],
   "source": [
    "   >> Create a DataFrame from list of dictionary.  <<"
   ]
  },
  {
   "cell_type": "code",
   "execution_count": 14,
   "id": "b329ef36",
   "metadata": {},
   "outputs": [
    {
     "name": "stdout",
     "output_type": "stream",
     "text": [
      "   a   b    e     c\n",
      "0  1   2  7.0   NaN\n",
      "1  5  10  NaN  20.0\n"
     ]
    }
   ],
   "source": [
    "data = [{\"a\": 1, \"b\": 2, \"e\" :7},{\"a\": 5, \"b\": 10, \"c\": 20}]\n",
    "df2 = pd.DataFrame(data)\n",
    "\n",
    "print(df2)"
   ]
  },
  {
   "cell_type": "code",
   "execution_count": null,
   "id": "c8601996",
   "metadata": {},
   "outputs": [],
   "source": [
    "                     ***  append()  ***"
   ]
  },
  {
   "cell_type": "code",
   "execution_count": 15,
   "id": "4413b4c0",
   "metadata": {},
   "outputs": [
    {
     "name": "stderr",
     "output_type": "stream",
     "text": [
      "C:\\Users\\LENOVO\\AppData\\Local\\Temp\\ipykernel_10856\\230204734.py:18: FutureWarning: The frame.append method is deprecated and will be removed from pandas in a future version. Use pandas.concat instead.\n",
      "  df1.append(df2, ignore_index = True)\n"
     ]
    },
    {
     "data": {
      "text/html": [
       "<div>\n",
       "<style scoped>\n",
       "    .dataframe tbody tr th:only-of-type {\n",
       "        vertical-align: middle;\n",
       "    }\n",
       "\n",
       "    .dataframe tbody tr th {\n",
       "        vertical-align: top;\n",
       "    }\n",
       "\n",
       "    .dataframe thead th {\n",
       "        text-align: right;\n",
       "    }\n",
       "</style>\n",
       "<table border=\"1\" class=\"dataframe\">\n",
       "  <thead>\n",
       "    <tr style=\"text-align: right;\">\n",
       "      <th></th>\n",
       "      <th>x</th>\n",
       "      <th>y</th>\n",
       "      <th>z</th>\n",
       "    </tr>\n",
       "  </thead>\n",
       "  <tbody>\n",
       "    <tr>\n",
       "      <th>0</th>\n",
       "      <td>25</td>\n",
       "      <td>47</td>\n",
       "      <td>NaN</td>\n",
       "    </tr>\n",
       "    <tr>\n",
       "      <th>1</th>\n",
       "      <td>15</td>\n",
       "      <td>24</td>\n",
       "      <td>NaN</td>\n",
       "    </tr>\n",
       "    <tr>\n",
       "      <th>2</th>\n",
       "      <td>12</td>\n",
       "      <td>17</td>\n",
       "      <td>NaN</td>\n",
       "    </tr>\n",
       "    <tr>\n",
       "      <th>3</th>\n",
       "      <td>19</td>\n",
       "      <td>29</td>\n",
       "      <td>NaN</td>\n",
       "    </tr>\n",
       "    <tr>\n",
       "      <th>4</th>\n",
       "      <td>25</td>\n",
       "      <td>47</td>\n",
       "      <td>38.0</td>\n",
       "    </tr>\n",
       "    <tr>\n",
       "      <th>5</th>\n",
       "      <td>15</td>\n",
       "      <td>24</td>\n",
       "      <td>12.0</td>\n",
       "    </tr>\n",
       "    <tr>\n",
       "      <th>6</th>\n",
       "      <td>12</td>\n",
       "      <td>17</td>\n",
       "      <td>45.0</td>\n",
       "    </tr>\n",
       "  </tbody>\n",
       "</table>\n",
       "</div>"
      ],
      "text/plain": [
       "    x   y     z\n",
       "0  25  47   NaN\n",
       "1  15  24   NaN\n",
       "2  12  17   NaN\n",
       "3  19  29   NaN\n",
       "4  25  47  38.0\n",
       "5  15  24  12.0\n",
       "6  12  17  45.0"
      ]
     },
     "execution_count": 15,
     "metadata": {},
     "output_type": "execute_result"
    }
   ],
   "source": [
    "#The pandas append() function is used to add the rows of other dataframe to the end of the given df.,\n",
    "#returning a new dataframe object.\n",
    "\n",
    "\n",
    "# create first Dataframe using dictionary\n",
    "\n",
    "df1 = pd.DataFrame({\"x\" :[25,15,12,19],\n",
    "                    \"y\" :[47, 24, 17, 29]})\n",
    "\n",
    "# create second Dataframe using dictionary\n",
    "\n",
    "df2 = pd.DataFrame({\"x\" :[25, 15, 12],\n",
    "                    \"y\" :[47, 24, 17],\n",
    "                    \"z\" :[38, 12, 45]})\n",
    "\n",
    "#append df2 at end in df1\n",
    "\n",
    "df1.append(df2, ignore_index = True)"
   ]
  },
  {
   "cell_type": "code",
   "execution_count": null,
   "id": "7acdadb1",
   "metadata": {},
   "outputs": [],
   "source": [
    "*** This programm is done the date of 1-july-2021. ***"
   ]
  }
 ],
 "metadata": {
  "kernelspec": {
   "display_name": "Python 3 (ipykernel)",
   "language": "python",
   "name": "python3"
  },
  "language_info": {
   "codemirror_mode": {
    "name": "ipython",
    "version": 3
   },
   "file_extension": ".py",
   "mimetype": "text/x-python",
   "name": "python",
   "nbconvert_exporter": "python",
   "pygments_lexer": "ipython3",
   "version": "3.9.12"
  },
  "widgets": {
   "application/vnd.jupyter.widget-state+json": {
    "state": {},
    "version_major": 2,
    "version_minor": 0
   }
  }
 },
 "nbformat": 4,
 "nbformat_minor": 5
}
