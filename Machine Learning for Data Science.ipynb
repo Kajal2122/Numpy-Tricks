{
 "cells": [
  {
   "cell_type": "code",
   "execution_count": null,
   "id": "1eb8514c",
   "metadata": {},
   "outputs": [],
   "source": [
    "                 **** Machine Learning For Data Science****"
   ]
  },
  {
   "cell_type": "code",
   "execution_count": null,
   "id": "23017808",
   "metadata": {},
   "outputs": [],
   "source": [
    "            >> Artificial intelligence\n",
    "    \n",
    "               >> Machine Learning \n",
    "        \n",
    "                  >>  Deep Learning"
   ]
  },
  {
   "cell_type": "code",
   "execution_count": null,
   "id": "d298bf00",
   "metadata": {},
   "outputs": [],
   "source": [
    "   ### What is Maching Learning ?\n",
    "    \n",
    "    * Machine Learning is said as a subset of artifical intelligence that is mainly concerned with the development of algorithum\n",
    "      which allows a computer to learn from the data n past experiences on their own.\n",
    "        \n",
    "    * The term machine learning was the first introduced. by Arthur Samuel in 1959.\n",
    "    \n",
    "    * Machine learning enables a machines to automatically learn from data, improve performance from expperiences, &\n",
    "        predict things without being explicity programmed.\n",
    "        \n",
    "   Now take an example,\n",
    "\n",
    "        Human :-  says that i can learn everything automatically from experiences.     Machine can u learn?\n",
    "        \n",
    "        Machine :- saya,  yes, i can also learn from past data with the help of machine learning ."
   ]
  },
  {
   "cell_type": "code",
   "execution_count": null,
   "id": "c35a1427",
   "metadata": {},
   "outputs": [],
   "source": [
    "    **** How does Machine Learning work ?\n",
    "    \n",
    "           Training\n",
    "Input past------------>Machine learning algo.--------->Building Logical models----------->Output\n",
    "  data                                                                             !\n",
    "                                                                                   !\n",
    "                           Learn from                                           New data\n",
    "                              data \n",
    "\n"
   ]
  },
  {
   "cell_type": "code",
   "execution_count": null,
   "id": "aac8054e",
   "metadata": {},
   "outputs": [],
   "source": [
    "      Classification of Machine Learning\n",
    "    there are two types of machine learning\n",
    "    \n",
    "    1)  Supervised Learning.\n",
    "    2) unSupervised Learning. \n",
    "    \n",
    "    1) :- supervised learning is a type of machine learning method in which we provide labelled data to the machine learning\n",
    "           system in order  to train it , & on that basis, it predicts the output.\n",
    "            \n",
    "            it is learning algorithums:\n",
    "                * Classification\n",
    "                * Regression \n",
    "            The Supervised learning is based on supervision ,& it is the same as when a student learns things in the supervision \n",
    "            of the teacher.\n",
    "            \n",
    "            The example* of this are Spam filtering.\n",
    "            \n",
    "            \n",
    "            \n",
    "        2) :- unsupervised Learning  is a learning method in which a machine learning method in which a machine learns without any \n",
    "              supervision.\n",
    "                \n",
    "             the set of data that has not been  labelled , classified , or categorized.\n",
    "            \n",
    "            The goal of this learning is to restructure the input data into new feature or a group of objects with similar\n",
    "            patterns.\n",
    "            \n",
    "            * Clustering \n",
    "            * Association\n",
    "            \n",
    "            ex; RAndom Data :- prediction of two groups \n",
    "                               different types of animals.  like dogs , & cats\n",
    "                    \n",
    "            3) :- Reinforcement Learning \n",
    "                it is a feeedback-based learning method , in which a learning agent gets a reward for\n",
    "                each righ action & a penalty for each wrong action.\n",
    "                \n",
    "                The agent learns automatically with these feedbacks & improves its performance.\n",
    "                \n",
    "                the goal of an agents is to get the most reward points, & hence, it improves its performances."
   ]
  },
  {
   "cell_type": "code",
   "execution_count": null,
   "id": "ebe7c88c",
   "metadata": {},
   "outputs": [],
   "source": [
    "      **\n",
    "    \n",
    "                        Regression:-\n",
    "    \n",
    "    \n",
    "      Regression - it is analysis is a statistical method to model the relationship b/w a dependent & independent\n",
    "        variables with one or more independent variables.\n",
    "        \n",
    "        it predicts continuous/real values such as temperature, age, salary, price, etc.\n",
    "        \n",
    "        \n",
    "                 Advertisements                                sales\n",
    "                  $90                                          $1000\n",
    "                  $120                                         $1300\n",
    "                  $150                                         $1800\n",
    "                  $100                                         $1200\n",
    "                  $130                                         $1380\n",
    "                  $200                                           ??\n",
    "            \n",
    "            \n",
    "            \n",
    "            \n",
    "            "
   ]
  },
  {
   "cell_type": "code",
   "execution_count": null,
   "id": "63dcd0e1",
   "metadata": {},
   "outputs": [],
   "source": [
    " Types of Regression-------\n",
    "    \n",
    "    \n",
    "    \n",
    "    1) linear Regression\n",
    "    2)polynominal Regression\n",
    "    3) Support Vector Regression\n",
    "    4) Decision tree regession\n",
    "    5) Random forest regession\n",
    "    6) Ridge Regression \n",
    "    7) Lasso Regression\n",
    "    8) Logistic Regression"
   ]
  },
  {
   "cell_type": "code",
   "execution_count": null,
   "id": "2bd9ea6c",
   "metadata": {},
   "outputs": [],
   "source": [
    "Explain :- Linear Regression\n",
    "    \n",
    "    linear regression is a statistical regression method which is used for predictive analysis.\n",
    "    \n",
    "    it is used to solving the regression problem in machine learning .\n",
    "    \n",
    "    it is also called simple linear regression linear regresion . if there are more than one input variable,then \n",
    "    such linear regression is called a multiple line regression."
   ]
  },
  {
   "cell_type": "code",
   "execution_count": null,
   "id": "ce9b9e3a",
   "metadata": {},
   "outputs": [],
   "source": [
    "    regression techineque finds out a linear relationship b/w x(input) & y(output).\n",
    "    \n",
    "    Hence , the name is linear regression.\n",
    "    \n",
    "    "
   ]
  }
 ],
 "metadata": {
  "kernelspec": {
   "display_name": "Python 3 (ipykernel)",
   "language": "python",
   "name": "python3"
  },
  "language_info": {
   "codemirror_mode": {
    "name": "ipython",
    "version": 3
   },
   "file_extension": ".py",
   "mimetype": "text/x-python",
   "name": "python",
   "nbconvert_exporter": "python",
   "pygments_lexer": "ipython3",
   "version": "3.9.12"
  },
  "widgets": {
   "application/vnd.jupyter.widget-state+json": {
    "state": {},
    "version_major": 2,
    "version_minor": 0
   }
  }
 },
 "nbformat": 4,
 "nbformat_minor": 5
}
